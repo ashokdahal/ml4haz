{
  "cells": [
    {
      "cell_type": "markdown",
      "metadata": {},
      "source": [
        "\n",
        "# Logistic function\n",
        "**Code source: Gael Varoquaux**\n",
        "\n",
        "**Modifications by: Ashok Dahal**\n",
        "\n",
        "**License: BSD 3 clause**\n",
        "\n",
        "This code provides a visual comparison of logistic regression and linear regression on a simple, synthetic dataset. It demonstrates how logistic regression can model binary outcomes and how it differs from linear regression, which models continuous outcomes."
      ]
    },
    {
      "cell_type": "markdown",
      "metadata": {},
      "source": [
        "# Import the Libraries\n",
        "matplotlib.pyplot: Used for creating plots.\n",
        "\n",
        "numpy: Used for numerical operations.\n",
        "\n",
        "scipy.special.expit: Used to calculate the logistic function.\n",
        "\n",
        "sklearn.linear_model.LinearRegression: Implements linear regression.\n",
        "\n",
        "sklearn.linear_model.LogisticRegression: Implements logistic regression."
      ]
    },
    {
      "cell_type": "code",
      "execution_count": null,
      "metadata": {},
      "outputs": [],
      "source": [
        "import matplotlib.pyplot as plt\n",
        "import numpy as np\n",
        "from scipy.special import expit\n",
        "\n",
        "from sklearn.linear_model import LinearRegression, LogisticRegression"
      ]
    },
    {
      "cell_type": "markdown",
      "metadata": {},
      "source": [
        "# Generate Toy Dataset\n",
        "A dataset is created with 100 samples.\n",
        "\n",
        "X is generated from a normal distribution.\n",
        "\n",
        "y is a binary target variable, where y is 1 if X > 0 and 0 otherwise.\n",
        "\n",
        "Positive values of X are scaled to be larger.\n",
        "\n",
        "Gaussian noise is added to X to introduce some randomness.\n",
        "\n",
        "X is reshaped to be a 2D array with one feature."
      ]
    },
    {
      "cell_type": "code",
      "execution_count": null,
      "metadata": {
        "collapsed": false
      },
      "outputs": [],
      "source": [
        "\n",
        "xmin, xmax = -5, 5\n",
        "n_samples = 100\n",
        "np.random.seed(0)\n",
        "X = np.random.normal(size=n_samples)\n",
        "y = (X > 0).astype(float)\n",
        "X[X > 0] *= 4\n",
        "X += 0.3 * np.random.normal(size=n_samples)\n",
        "\n",
        "X = X[:, np.newaxis]\n"
      ]
    },
    {
      "cell_type": "markdown",
      "metadata": {},
      "source": [
        "# Fitting the Logistic Regression Model\n",
        "A logistic regression model (clf) is created with a very high regularization parameter (C=1e5).\n",
        "\n",
        "The model is fitted to the data (X and y)."
      ]
    },
    {
      "cell_type": "code",
      "execution_count": null,
      "metadata": {},
      "outputs": [],
      "source": [
        "\n",
        "clf = LogisticRegression(C=1e5)\n",
        "clf.fit(X, y)\n"
      ]
    },
    {
      "cell_type": "markdown",
      "metadata": {},
      "source": [
        "# Plotting the Data and the Logistic Regression Model\n",
        "A plot is initialized.\n",
        "\n",
        "The data points (X and y) are plotted as black dots.\n",
        "\n",
        "X_test is created as a set of points from -5 to 10 to visualize the model.\n",
        "\n",
        "The logistic function (sigmoid curve) of the logistic regression model is computed and plotted in red."
      ]
    },
    {
      "cell_type": "code",
      "execution_count": null,
      "metadata": {},
      "outputs": [],
      "source": [
        "\n",
        "plt.figure(1, figsize=(4, 3))\n",
        "plt.clf()\n",
        "plt.scatter(X.ravel(), y, label=\"example data\", color=\"black\", zorder=20)\n",
        "X_test = np.linspace(-5, 10, 300)\n",
        "\n",
        "loss = expit(X_test * clf.coef_ + clf.intercept_).ravel()\n",
        "plt.plot(X_test, loss, label=\"Logistic Regression Model\", color=\"red\", linewidth=3)"
      ]
    },
    {
      "cell_type": "markdown",
      "metadata": {},
      "source": [
        "# Fitting the Linear Regression Model\n",
        "A linear regression model (ols) is created and fitted to the data.\n",
        "\n",
        "The linear regression line is computed and plotted.\n"
      ]
    },
    {
      "cell_type": "code",
      "execution_count": null,
      "metadata": {},
      "outputs": [],
      "source": [
        "\n",
        "ols = LinearRegression()\n",
        "ols.fit(X, y)\n",
        "plt.plot(\n",
        "    X_test,\n",
        "    ols.coef_ * X_test + ols.intercept_,\n",
        "    label=\"Linear Regression Model\",\n",
        "    linewidth=1,\n",
        ")\n"
      ]
    },
    {
      "cell_type": "markdown",
      "metadata": {},
      "source": [
        "#  Finalizing the Plot\n",
        "A horizontal line at y=0.5 is added.\n",
        "\n",
        "Labels for the x-axis and y-axis are set.\n",
        "\n",
        "Custom ticks for x and y axes are defined.\n",
        "\n",
        "The plot limits for x and y axes are set.\n",
        "\n",
        "A legend is added to identify the different models.\n",
        "\n",
        "The layout is adjusted to fit everything neatly.\n",
        "\n",
        "The plot is displayed."
      ]
    },
    {
      "cell_type": "code",
      "execution_count": null,
      "metadata": {},
      "outputs": [],
      "source": [
        "plt.axhline(0.5, color=\".5\")\n",
        "\n",
        "plt.ylabel(\"y\")\n",
        "plt.xlabel(\"X\")\n",
        "plt.xticks(range(-5, 10))\n",
        "plt.yticks([0, 0.5, 1])\n",
        "plt.ylim(-0.25, 1.25)\n",
        "plt.xlim(-4, 10)\n",
        "plt.legend(\n",
        "    loc=\"lower right\",\n",
        "    fontsize=\"small\",\n",
        ")\n",
        "plt.tight_layout()\n",
        "plt.show()"
      ]
    }
  ],
  "metadata": {
    "kernelspec": {
      "display_name": "Python 3",
      "language": "python",
      "name": "python3"
    },
    "language_info": {
      "codemirror_mode": {
        "name": "ipython",
        "version": 3
      },
      "file_extension": ".py",
      "mimetype": "text/x-python",
      "name": "python",
      "nbconvert_exporter": "python",
      "pygments_lexer": "ipython3",
      "version": "3.9.19"
    }
  },
  "nbformat": 4,
  "nbformat_minor": 0
}
