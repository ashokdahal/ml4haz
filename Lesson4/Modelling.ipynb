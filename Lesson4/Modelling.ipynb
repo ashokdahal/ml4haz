{
 "cells": [
  {
   "cell_type": "markdown",
   "metadata": {},
   "source": [
    "## Download the pre-processed data in previous data preparation notebook"
   ]
  },
  {
   "cell_type": "code",
   "execution_count": null,
   "metadata": {},
   "outputs": [],
   "source": [
    "# Download Ground Truth\n",
    "!mkdir Dataset\n",
    "!wget  https://zenodo.org/records/12751419/files/XDataPrichit.npy?download=1  -O Dataset/Xdata.npy\n",
    "!wget  https://zenodo.org/records/12751419/files/YDataPrichit.npy?download=1  -O Dataset/Ydata.npy"
   ]
  },
  {
   "cell_type": "code",
   "execution_count": null,
   "metadata": {},
   "outputs": [],
   "source": [
    "# import libraries\n",
    "import os\n",
    "import numpy as np\n",
    "import matplotlib.pyplot as plt\n",
    "from sklearn.model_selection import train_test_split\n",
    "import sklearn\n",
    "import keras\n",
    "\n",
    "os.environ[\"SM_FRAMEWORK\"] = \"tf.keras\"\n",
    "import tensorflow as tf\n",
    "import segmentation_models as sm\n",
    "from segmentation_models import Unet\n",
    "\n",
    "keras.backend.set_image_data_format(\"channels_last\")"
   ]
  },
  {
   "cell_type": "code",
   "execution_count": null,
   "metadata": {},
   "outputs": [],
   "source": [
    "# import and divide dataset\n",
    "Xdata = np.load(\"Dataset/Xdata.npy\")\n",
    "Ydata = np.load(\"Dataset/Ydata.npy\")\n",
    "print(f\"the shape of input image matrix is {Xdata.shape}\")"
   ]
  },
  {
   "cell_type": "code",
   "execution_count": null,
   "metadata": {},
   "outputs": [],
   "source": [
    "n = 1354  # sample number\n",
    "fig, ax = plt.subplots(1, 2, figsize=(12, 6))\n",
    "ax[0].imshow(Xdata[n, :, :, 2])\n",
    "ax[1].imshow(Ydata[n, :, :, 0])\n",
    "\n",
    "ax[0].ticklabel_format(useOffset=False, style=\"plain\")\n",
    "ax[1].ticklabel_format(useOffset=False, style=\"plain\")"
   ]
  },
  {
   "cell_type": "code",
   "execution_count": null,
   "metadata": {},
   "outputs": [],
   "source": [
    "X_train, X_test, y_train, y_test = train_test_split(\n",
    "    Xdata, Ydata, test_size=0.3, random_state=42\n",
    ")"
   ]
  },
  {
   "cell_type": "code",
   "execution_count": null,
   "metadata": {},
   "outputs": [],
   "source": [
    "print(f\" Size of XTrain is {X_train.shape}\")\n",
    "print(f\" Size of XTest is {X_test.shape}\")\n",
    "print(f\" Size of YTrain is {y_train.shape}\")\n",
    "print(f\" Size of YTest is {y_test.shape}\")"
   ]
  },
  {
   "cell_type": "markdown",
   "metadata": {},
   "source": [
    "### Define model and Train"
   ]
  },
  {
   "cell_type": "code",
   "execution_count": null,
   "metadata": {},
   "outputs": [],
   "source": [
    "# model = sm.Unet('resnet34', classes=1, activation='sigmoid')\n",
    "# https://segmentation-models.readthedocs.io/en/latest/tutorial.html\n",
    "model = Unet(\n",
    "    backbone_name=\"resnet34\",\n",
    "    classes=1,\n",
    "    activation=\"sigmoid\",\n",
    "    encoder_weights=None,\n",
    "    input_shape=(32, 32, 12),\n",
    ")"
   ]
  },
  {
   "cell_type": "code",
   "execution_count": null,
   "metadata": {},
   "outputs": [],
   "source": [
    "# Configure the model for training.\n",
    "# We use the \"sparse\" version of categorical_crossentropy\n",
    "# because our target data is integers.\n",
    "model.compile(\n",
    "    optimizer=keras.optimizers.Adam(1e-4),\n",
    "    loss=\"binary_crossentropy\",\n",
    "    metrics=[\n",
    "        \"accuracy\",\n",
    "        tf.keras.metrics.AUC()\n",
    "    ],\n",
    ")\n",
    "\n",
    "\n",
    "def trainmodel(model, xdata, ydata):\n",
    "    NUMBER_EPOCHS = 10\n",
    "    filepath = \"checkpointModelling\"\n",
    "    BATCH_SIZE = 32\n",
    "\n",
    "    model_checkpoint_callback = tf.keras.callbacks.ModelCheckpoint(\n",
    "        filepath,\n",
    "        monitor=\"val_loss\",\n",
    "        verbose=0,\n",
    "        save_best_only=True,\n",
    "        save_weights_only=False,\n",
    "        mode=\"min\",\n",
    "        save_freq=\"epoch\",\n",
    "        options=None,\n",
    "    )\n",
    "    print(type(xdata), type(ydata))\n",
    "    hist = model.fit(\n",
    "        x=xdata,\n",
    "        y=ydata,\n",
    "        epochs=NUMBER_EPOCHS,\n",
    "        batch_size=BATCH_SIZE,\n",
    "        validation_split=0.2,  # auto validate using 20% of random samples at each epoch\n",
    "        verbose=1,\n",
    "        callbacks=[model_checkpoint_callback],\n",
    "        class_weight={0: 1, 1: 5},\n",
    "    )\n",
    "    return hist"
   ]
  },
  {
   "cell_type": "code",
   "execution_count": null,
   "metadata": {},
   "outputs": [],
   "source": [
    "trainmodel(\n",
    "    model,\n",
    "    np.array(X_train, dtype=np.float32),\n",
    "    np.expand_dims(np.array(y_train, dtype=np.float32), axis=-1),\n",
    ")"
   ]
  },
  {
   "cell_type": "code",
   "execution_count": null,
   "metadata": {},
   "outputs": [],
   "source": [
    "# Generate predictions for all images in the validation set\n",
    "\n",
    "val_preds = model.predict(X_test)"
   ]
  },
  {
   "cell_type": "code",
   "execution_count": null,
   "metadata": {},
   "outputs": [],
   "source": [
    "preds = val_preds\n",
    "preds[preds > 0.50] = 1\n",
    "preds[preds <= 0.50] = 0\n",
    "sklearn.metrics.accuracy_score(y_test.flatten(), preds.flatten())"
   ]
  },
  {
   "cell_type": "code",
   "execution_count": null,
   "metadata": {},
   "outputs": [],
   "source": [
    "preds = val_preds\n",
    "preds[preds > 0.50] = 1\n",
    "preds[preds <= 0.50] = 0\n",
    "sklearn.metrics.f1_score(y_test.flatten(), preds.flatten())"
   ]
  },
  {
   "cell_type": "code",
   "execution_count": null,
   "metadata": {},
   "outputs": [],
   "source": [
    "n = 196  # sample number\n",
    "fig, ax = plt.subplots(1, 2, figsize=(12, 6))\n",
    "im1 = ax[0].imshow(\n",
    "    val_preds[n, :, :, :3].transpose((0, 1, 2)), vmin=0, vmax=1.0, cmap=\"plasma\"\n",
    ")\n",
    "im2 = ax[1].imshow(y_test[n, :, :, 0], vmin=0, vmax=1.0,cmap=\"plasma\")\n",
    "ax[0].ticklabel_format(useOffset=False, style=\"plain\")\n",
    "ax[1].ticklabel_format(useOffset=False, style=\"plain\")\n",
    "\n",
    "fig.colorbar(im1, ax=ax[0])\n",
    "fig.colorbar(im2, ax=ax[1])"
   ]
  },
  {
   "cell_type": "markdown",
   "metadata": {},
   "source": [
    "# Predict and Save"
   ]
  },
  {
   "cell_type": "code",
   "execution_count": null,
   "metadata": {},
   "outputs": [],
   "source": [
    "import rasterio\n",
    "from tqdm.notebook import tqdm \n",
    "\n",
    "src = rasterio.open(\"Prichit/Factors.tif\") # This can be the same area or any other area you want to predict but with same number of bands\n",
    "img = src.read().transpose((1, 2, 0))\n",
    "img.shape\n",
    "\n",
    "patchsize =32 # Keep the patch size same as the model that you trained on\n",
    "nrows, ncols, nbands = img.shape\n",
    "result = np.empty((nrows, ncols))\n",
    "for i in tqdm(range(int(nrows / patchsize))):\n",
    "        for j in range(int(ncols / patchsize)):\n",
    "            xpatch = img[\n",
    "                i * patchsize : (i + 1) * patchsize,\n",
    "                j * patchsize : (j + 1) * patchsize,\n",
    "                :,\n",
    "            ]\n",
    "            xpatch = np.expand_dims(xpatch, 0)\n",
    "            if not np.any(np.isnan(xpatch)):\n",
    "              prob = model.predict(xpatch)\n",
    "              result[i * patchsize : (i + 1) * patchsize,\n",
    "                j * patchsize : (j + 1) * patchsize] = prob[:,:,0]\n",
    "\n",
    "save_file = \"Results.tif\"  ##Give the save name to save predicted data in here\n",
    "with rasterio.Env():\n",
    "    profile = src.profile\n",
    "    profile.update(\n",
    "        dtype=rasterio.float32,\n",
    "        count=1,\n",
    "        width=result.shape[-1],\n",
    "        height=result.shape[-2],\n",
    "        compress=\"lzw\",\n",
    "    )\n",
    "    with rasterio.open(save_file, \"w\", **profile) as dst:\n",
    "        dst.write(result.astype(rasterio.float32), 1)            "
   ]
  }
 ],
 "metadata": {
  "kernelspec": {
   "display_name": "dlgeo",
   "language": "python",
   "name": "python3"
  },
  "language_info": {
   "codemirror_mode": {
    "name": "ipython",
    "version": 3
   },
   "file_extension": ".py",
   "mimetype": "text/x-python",
   "name": "python",
   "nbconvert_exporter": "python",
   "pygments_lexer": "ipython3",
   "version": "3.11.3"
  }
 },
 "nbformat": 4,
 "nbformat_minor": 2
}
