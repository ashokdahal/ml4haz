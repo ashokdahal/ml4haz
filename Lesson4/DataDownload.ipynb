{
 "cells": [
  {
   "cell_type": "code",
   "execution_count": null,
   "metadata": {},
   "outputs": [],
   "source": [
    "!mkdir Dataset\n",
    "!mkdir Dataset/Extent\n",
    "!wget  https://zenodo.org/records/12723317/files/StudyArea.gpkg?download=1  -O Dataset/Extent/StudyArea.gpkg"
   ]
  },
  {
   "cell_type": "code",
   "execution_count": null,
   "metadata": {},
   "outputs": [],
   "source": [
    "import geopandas as gpd\n",
    "import openeo\n",
    "import json"
   ]
  },
  {
   "cell_type": "code",
   "execution_count": null,
   "metadata": {},
   "outputs": [],
   "source": [
    "connection = openeo.connect(url=\"openeo.dataspace.copernicus.eu\").authenticate_oidc()"
   ]
  },
  {
   "cell_type": "code",
   "execution_count": null,
   "metadata": {},
   "outputs": [],
   "source": [
    "aoi = json.loads(gpd.read_file(\"Dataset/Extent/StudyArea.gpkg\").to_json())"
   ]
  },
  {
   "cell_type": "code",
   "execution_count": null,
   "metadata": {},
   "outputs": [],
   "source": [
    "sentinel2_cube = connection.load_collection(\n",
    "    \"SENTINEL2_L2A\",\n",
    "    spatial_extent=aoi,\n",
    "    temporal_extent=[\"2019-10-13\", \"2019-11-05\"],\n",
    "    bands=[\"B02\", \"B03\", \"B04\", \"B08\"],\n",
    ")"
   ]
  },
  {
   "cell_type": "code",
   "execution_count": null,
   "metadata": {},
   "outputs": [],
   "source": [
    "sentinel1_pre_cube = connection.load_collection(\n",
    "    \"SENTINEL1_GRD\",\n",
    "    spatial_extent=aoi,\n",
    "    temporal_extent=[\"2019-09-01\", \"2019-10-01\"],\n",
    "    bands=[\"VV\"],\n",
    "    properties={\"sat:orbit_state\": lambda v: v == \"ascending\"},\n",
    ")\n",
    "sentinel1_pre_cube = sentinel1_pre_cube.sar_backscatter(coefficient=\"gamma0-ellipsoid\")"
   ]
  },
  {
   "cell_type": "code",
   "execution_count": null,
   "metadata": {},
   "outputs": [],
   "source": [
    "sentinel1_post_cube = connection.load_collection(\n",
    "    \"SENTINEL1_GRD\",\n",
    "    spatial_extent=aoi,\n",
    "    temporal_extent=[\"2019-10-13\", \"2019-11-05\"],\n",
    "    bands=[\"VV\"],\n",
    "    properties={\"sat:orbit_state\": lambda v: v == \"ascending\"},\n",
    ")\n",
    "sentinel1_post_cube = sentinel1_post_cube.sar_backscatter(\n",
    "    coefficient=\"gamma0-ellipsoid\"\n",
    ")"
   ]
  },
  {
   "cell_type": "code",
   "execution_count": null,
   "metadata": {},
   "outputs": [],
   "source": [
    "sentinel2_cube = sentinel2_cube.reduce_dimension(dimension=\"t\", reducer=\"median\")"
   ]
  },
  {
   "cell_type": "code",
   "execution_count": null,
   "metadata": {},
   "outputs": [],
   "source": [
    "sentinel1_pre_cube = sentinel1_pre_cube.reduce_dimension(dimension=\"t\", reducer=\"last\")"
   ]
  },
  {
   "cell_type": "code",
   "execution_count": null,
   "metadata": {},
   "outputs": [],
   "source": [
    "sentinel1_post_cube = sentinel1_post_cube.reduce_dimension(\n",
    "    dimension=\"t\", reducer=\"first\"\n",
    ")"
   ]
  },
  {
   "cell_type": "code",
   "execution_count": null,
   "metadata": {},
   "outputs": [],
   "source": [
    "ratio = sentinel1_post_cube.divide(sentinel1_pre_cube)\n",
    "\n",
    "# rename for merging\n",
    "ratio = ratio.rename_labels(dimension=\"bands\", target=[\"ratio\"])\n",
    "sentinel1_post_cube = sentinel1_post_cube.rename_labels(\n",
    "    dimension=\"bands\", target=[\"postSAR\"]\n",
    ")\n",
    "sentinel1_pre_cube = sentinel1_pre_cube.rename_labels(\n",
    "    dimension=\"bands\", target=[\"preSAR\"]\n",
    ")"
   ]
  },
  {
   "cell_type": "code",
   "execution_count": null,
   "metadata": {},
   "outputs": [],
   "source": [
    "radar_cubes = [sentinel1_pre_cube, sentinel1_post_cube, ratio]\n",
    "merged_cube = sentinel2_cube\n",
    "for cube in radar_cubes:\n",
    "    merged_cube = merged_cube.merge_cubes(cube)"
   ]
  },
  {
   "cell_type": "code",
   "execution_count": null,
   "metadata": {},
   "outputs": [],
   "source": [
    "job_options = {\n",
    "    \"executor-memory\": \"3G\",\n",
    "    \"executor-memoryOverhead\": \"4G\",\n",
    "    \"executor-cores\": \"2\",\n",
    "}\n",
    "merged_cube.execute_batch(\n",
    "    title=\"Download Japan\", outputfile=\"Data/JapanImages.tiff\", job_options=job_options\n",
    ")"
   ]
  }
 ],
 "metadata": {
  "kernelspec": {
   "display_name": "PInSAR",
   "language": "python",
   "name": "python3"
  },
  "language_info": {
   "codemirror_mode": {
    "name": "ipython",
    "version": 3
   },
   "file_extension": ".py",
   "mimetype": "text/x-python",
   "name": "python",
   "nbconvert_exporter": "python",
   "pygments_lexer": "ipython3",
   "version": "3.11.3"
  }
 },
 "nbformat": 4,
 "nbformat_minor": 2
}
